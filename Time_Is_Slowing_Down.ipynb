{
  "nbformat": 4,
  "nbformat_minor": 0,
  "metadata": {
    "colab": {
      "name": "Time Is Slowing Down.ipynb",
      "provenance": [],
      "collapsed_sections": [],
      "authorship_tag": "ABX9TyOl9zI0hNlO+DkmIVP4DrZA",
      "include_colab_link": true
    },
    "kernelspec": {
      "name": "python3",
      "display_name": "Python 3"
    }
  },
  "cells": [
    {
      "cell_type": "markdown",
      "metadata": {
        "id": "view-in-github",
        "colab_type": "text"
      },
      "source": [
        "<a href=\"https://colab.research.google.com/github/arjdesign/mlframework/blob/master/Time_Is_Slowing_Down.ipynb\" target=\"_parent\"><img src=\"https://colab.research.google.com/assets/colab-badge.svg\" alt=\"Open In Colab\"/></a>"
      ]
    },
    {
      "cell_type": "code",
      "metadata": {
        "id": "xBES20Qny7-u",
        "colab_type": "code",
        "colab": {}
      },
      "source": [
        "from decimal import *\n",
        "from scipy import constants\n",
        "import numpy as np"
      ],
      "execution_count": 165,
      "outputs": []
    },
    {
      "cell_type": "code",
      "metadata": {
        "id": "BjYPCyU43yM6",
        "colab_type": "code",
        "colab": {
          "base_uri": "https://localhost:8080/",
          "height": 54
        },
        "outputId": "a5576221-c18c-4646-9a6c-a075307b2143"
      },
      "source": [
        "getcontext()"
      ],
      "execution_count": 166,
      "outputs": [
        {
          "output_type": "execute_result",
          "data": {
            "text/plain": [
              "Context(prec=28, rounding=ROUND_HALF_EVEN, Emin=-999999, Emax=999999, capitals=1, clamp=0, flags=[Clamped, Inexact, FloatOperation, Rounded, Subnormal, Underflow], traps=[InvalidOperation, DivisionByZero, Overflow])"
            ]
          },
          "metadata": {
            "tags": []
          },
          "execution_count": 166
        }
      ]
    },
    {
      "cell_type": "code",
      "metadata": {
        "id": "GjJQQeC74pvr",
        "colab_type": "code",
        "colab": {}
      },
      "source": [
        "with localcontext() as ctx:\n",
        "  ctx.prec = 60\n",
        "  plank_time = np.sqrt((constants.hbar*constants.gravitational_constant)/constants.speed_of_light**5)\n"
      ],
      "execution_count": 167,
      "outputs": []
    },
    {
      "cell_type": "code",
      "metadata": {
        "id": "t7qSCDV2zB4z",
        "colab_type": "code",
        "colab": {}
      },
      "source": [
        ""
      ],
      "execution_count": 167,
      "outputs": []
    },
    {
      "cell_type": "code",
      "metadata": {
        "id": "Ocvpf5kMz2pW",
        "colab_type": "code",
        "colab": {
          "base_uri": "https://localhost:8080/",
          "height": 34
        },
        "outputId": "68a6df9e-e9c2-4f85-962d-802c786aab37"
      },
      "source": [
        "plank_time"
      ],
      "execution_count": 168,
      "outputs": [
        {
          "output_type": "execute_result",
          "data": {
            "text/plain": [
              "5.391246448313605e-44"
            ]
          },
          "metadata": {
            "tags": []
          },
          "execution_count": 168
        }
      ]
    },
    {
      "cell_type": "code",
      "metadata": {
        "id": "zVtDkAqxz4Ap",
        "colab_type": "code",
        "colab": {}
      },
      "source": [
        ""
      ],
      "execution_count": 168,
      "outputs": []
    },
    {
      "cell_type": "markdown",
      "metadata": {
        "id": "aQnyQeFi01Aa",
        "colab_type": "text"
      },
      "source": [
        "**Hypothesis:**\n",
        "\n",
        "Time is slowing down as the rate of plank time per second. This is the reason why we experience accelerated expansion of the universe.\n",
        "\n",
        "Experiments.\n",
        "\n",
        "Lets assume that two drivers are raching side by side at 10m/s. Both are driving symultaniously. In this scenerio both of them would feel that they have equal velocity. That means dV (v1-v2) =0\n",
        "\n",
        "Case 1: \n",
        "Assume that one driver1 is driving at time t1 = now and the driver 2 is driving one seconds ago. Driver1 is driving at 10m/s1. Here the s1 is the second at time t1 and the \n",
        "LIkewise driver2 is driving at 10m/s2. S2 is the second at 2.\n",
        "\n",
        "In this case the s1 and s2 have different.\n",
        "\n",
        "\n",
        "\n"
      ]
    },
    {
      "cell_type": "code",
      "metadata": {
        "id": "TKWaT1eA1KbY",
        "colab_type": "code",
        "colab": {
          "base_uri": "https://localhost:8080/",
          "height": 34
        },
        "outputId": "290dae56-be8f-4950-9621-d527f375f4b5"
      },
      "source": [
        "with localcontext() as ctx:\n",
        "  ctx.prec = 60\n",
        "  time_now_in_sec = 1\n",
        "  time_one_sec_ago_in_sec = 1.0- 100000*plank_time\n",
        "time_one_sec_ago_in_sec"
      ],
      "execution_count": 169,
      "outputs": [
        {
          "output_type": "execute_result",
          "data": {
            "text/plain": [
              "1.0"
            ]
          },
          "metadata": {
            "tags": []
          },
          "execution_count": 169
        }
      ]
    },
    {
      "cell_type": "code",
      "metadata": {
        "id": "SXClJo5M3E7C",
        "colab_type": "code",
        "colab": {}
      },
      "source": [
        ""
      ],
      "execution_count": 169,
      "outputs": []
    },
    {
      "cell_type": "code",
      "metadata": {
        "id": "C87hhFMm7F7D",
        "colab_type": "code",
        "colab": {}
      },
      "source": [
        "no_of_seconds_in_million_year = Decimal(1000000*8760*60*60)\n",
        "no_of_seconds_in_13_bill_year = Decimal(13770000000000*8760*60*60)"
      ],
      "execution_count": 170,
      "outputs": []
    },
    {
      "cell_type": "code",
      "metadata": {
        "id": "I8YNDtyr9V3u",
        "colab_type": "code",
        "colab": {
          "base_uri": "https://localhost:8080/",
          "height": 34
        },
        "outputId": "ab63c762-1625-4b7f-aeef-0f6b5880e7fb"
      },
      "source": [
        "no_of_seconds_in_million_year"
      ],
      "execution_count": 171,
      "outputs": [
        {
          "output_type": "execute_result",
          "data": {
            "text/plain": [
              "Decimal('31536000000000')"
            ]
          },
          "metadata": {
            "tags": []
          },
          "execution_count": 171
        }
      ]
    },
    {
      "cell_type": "code",
      "metadata": {
        "id": "01xVX-eA9X9i",
        "colab_type": "code",
        "colab": {}
      },
      "source": [
        "second_in_Million_year_ago = Decimal(1 - (no_of_seconds_in_million_year*Decimal(plank_time) ))\n",
        "second_in_13_bill_year_ago = Decimal(1 - (no_of_seconds_in_13_bill_year*Decimal(plank_time) ))"
      ],
      "execution_count": 172,
      "outputs": []
    },
    {
      "cell_type": "code",
      "metadata": {
        "id": "mcBdoyuR962p",
        "colab_type": "code",
        "colab": {
          "base_uri": "https://localhost:8080/",
          "height": 51
        },
        "outputId": "f7df52f9-c4c9-4469-fb52-78c35d269366"
      },
      "source": [
        "print (\"Second in a million years ago \", second_in_Million_year_ago)\n",
        "print (\"Second in a 13.77 billion years ago \", second_in_13_bill_year_ago)"
      ],
      "execution_count": 173,
      "outputs": [
        {
          "output_type": "stream",
          "text": [
            "Second in a million years ago  1.000000000000000000000000000\n",
            "Second in a 13.77 billion years ago  0.9999999999999999999999765885\n"
          ],
          "name": "stdout"
        }
      ]
    },
    {
      "cell_type": "code",
      "metadata": {
        "id": "6TcdixMP-L8Z",
        "colab_type": "code",
        "colab": {}
      },
      "source": [
        "#How much is the second shorter in a million years?\n",
        "second_today = 1\n",
        "second_decreased_by = second_today - second_in_Million_year_ago"
      ],
      "execution_count": 174,
      "outputs": []
    },
    {
      "cell_type": "code",
      "metadata": {
        "id": "7sYUMWO5-s0B",
        "colab_type": "code",
        "colab": {
          "base_uri": "https://localhost:8080/",
          "height": 34
        },
        "outputId": "9f724537-8e58-4906-8c4e-b451d4e1bbbe"
      },
      "source": [
        "print(\"second is decreased by in a million year\",  second_decreased_by)"
      ],
      "execution_count": 175,
      "outputs": [
        {
          "output_type": "stream",
          "text": [
            "second is decreased by in a million year 0E-27\n"
          ],
          "name": "stdout"
        }
      ]
    },
    {
      "cell_type": "code",
      "metadata": {
        "id": "8eR3ndU0_CgT",
        "colab_type": "code",
        "colab": {}
      },
      "source": [
        ""
      ],
      "execution_count": 175,
      "outputs": []
    },
    {
      "cell_type": "markdown",
      "metadata": {
        "id": "mkVJjX3yAFma",
        "colab_type": "text"
      },
      "source": [
        "THe speed of solar system is 230 km per second and if. If an object that is 1 million light year away was moving with exact 230km per second we would not experience that difference in speed. "
      ]
    },
    {
      "cell_type": "code",
      "metadata": {
        "id": "uiuyGqTMAi1s",
        "colab_type": "code",
        "colab": {}
      },
      "source": [
        "#adjusting the speed \n",
        "\n",
        "speed = Decimal(230)/Decimal(second_in_Million_year_ago)\n",
        "  "
      ],
      "execution_count": 176,
      "outputs": []
    },
    {
      "cell_type": "code",
      "metadata": {
        "id": "kZ8odNulBgOR",
        "colab_type": "code",
        "colab": {
          "base_uri": "https://localhost:8080/",
          "height": 34
        },
        "outputId": "6ab34b99-e2a5-4c22-e154-0f8dbf155f49"
      },
      "source": [
        "speed"
      ],
      "execution_count": 177,
      "outputs": [
        {
          "output_type": "execute_result",
          "data": {
            "text/plain": [
              "Decimal('2.3E+2')"
            ]
          },
          "metadata": {
            "tags": []
          },
          "execution_count": 177
        }
      ]
    },
    {
      "cell_type": "code",
      "metadata": {
        "id": "ws862-UEBhVQ",
        "colab_type": "code",
        "colab": {}
      },
      "source": [
        "current_second = Decimal(plank_time)**Decimal(137860000000000000000000000000000)"
      ],
      "execution_count": 178,
      "outputs": []
    },
    {
      "cell_type": "code",
      "metadata": {
        "id": "3bOtKdAwCles",
        "colab_type": "code",
        "colab": {
          "base_uri": "https://localhost:8080/",
          "height": 34
        },
        "outputId": "18e841b4-fa43-453c-c8e8-5528809642ab"
      },
      "source": [
        "Decimal(current_second)"
      ],
      "execution_count": 179,
      "outputs": [
        {
          "output_type": "execute_result",
          "data": {
            "text/plain": [
              "Decimal('0E-1000026')"
            ]
          },
          "metadata": {
            "tags": []
          },
          "execution_count": 179
        }
      ]
    },
    {
      "cell_type": "code",
      "metadata": {
        "id": "XAq7S0nkC5Nh",
        "colab_type": "code",
        "colab": {
          "base_uri": "https://localhost:8080/",
          "height": 34
        },
        "outputId": "e1f33090-9295-4064-a1d5-8c739b17d0f3"
      },
      "source": [
        "# Experiment 2:\n",
        "\n",
        "Decimal(second_decreased_by)*Decimal(75)"
      ],
      "execution_count": 180,
      "outputs": [
        {
          "output_type": "execute_result",
          "data": {
            "text/plain": [
              "Decimal('0E-27')"
            ]
          },
          "metadata": {
            "tags": []
          },
          "execution_count": 180
        }
      ]
    },
    {
      "cell_type": "code",
      "metadata": {
        "id": "Dzm1v3NjGzDN",
        "colab_type": "code",
        "colab": {
          "base_uri": "https://localhost:8080/",
          "height": 34
        },
        "outputId": "f02718ef-fc2f-42e2-e949-72c63f7d3cee"
      },
      "source": [
        "plank_time**plank_time"
      ],
      "execution_count": 181,
      "outputs": [
        {
          "output_type": "execute_result",
          "data": {
            "text/plain": [
              "1.0"
            ]
          },
          "metadata": {
            "tags": []
          },
          "execution_count": 181
        }
      ]
    },
    {
      "cell_type": "code",
      "metadata": {
        "id": "bG7J_nL-JoTh",
        "colab_type": "code",
        "colab": {
          "base_uri": "https://localhost:8080/",
          "height": 34
        },
        "outputId": "1fa669f7-9a7d-4e91-d7d2-4001e6e6555a"
      },
      "source": [
        "print (\"Plank time to the power plank time is\",Decimal(plank_time)**Decimal(plank_time))"
      ],
      "execution_count": 182,
      "outputs": [
        {
          "output_type": "stream",
          "text": [
            "Plank time to the power plank time is 1.000000000000000000000000000\n"
          ],
          "name": "stdout"
        }
      ]
    },
    {
      "cell_type": "code",
      "metadata": {
        "id": "FgyvhBL0Jsj4",
        "colab_type": "code",
        "colab": {
          "base_uri": "https://localhost:8080/",
          "height": 34
        },
        "outputId": "82b60658-365d-4d8b-b061-ebb741a369d6"
      },
      "source": [
        "print (\"Plank time to the power beginning of universe is\",Decimal(plank_time)**Decimal(second_in_13_bill_year_ago))"
      ],
      "execution_count": 183,
      "outputs": [
        {
          "output_type": "stream",
          "text": [
            "Plank time to the power beginning of universe is 5.391246448313604551674203892E-44\n"
          ],
          "name": "stdout"
        }
      ]
    },
    {
      "cell_type": "markdown",
      "metadata": {
        "id": "FUXwBt5B0eUr",
        "colab_type": "text"
      },
      "source": [
        "From the above thouyght experiment it seems that the rate of increasing of time persecond has to be far greater than than the plank time.\n",
        "\n",
        "**Experiment 2 **\n"
      ]
    },
    {
      "cell_type": "code",
      "metadata": {
        "id": "mXSgT4w01GNm",
        "colab_type": "code",
        "colab": {}
      },
      "source": [
        ""
      ],
      "execution_count": 239,
      "outputs": []
    },
    {
      "cell_type": "code",
      "metadata": {
        "id": "QRGWlv6c1q6H",
        "colab_type": "code",
        "colab": {}
      },
      "source": [
        ""
      ],
      "execution_count": 184,
      "outputs": []
    },
    {
      "cell_type": "code",
      "metadata": {
        "id": "EPuUOjbt104x",
        "colab_type": "code",
        "colab": {}
      },
      "source": [
        "#use this to find out the second one million years ago\n",
        "\n",
        "second_in_Million_year_ago_v2 = Decimal(1 - (no_of_seconds_in_million_year*Decimal(smallest_second_K) ))\n",
        "second_in_13_bill_year_ago_v2 = Decimal(1 - (no_of_seconds_in_13_bill_year*Decimal(smallest_second_K) ))"
      ],
      "execution_count": 185,
      "outputs": []
    },
    {
      "cell_type": "code",
      "metadata": {
        "id": "1wRxjRbv2JIZ",
        "colab_type": "code",
        "colab": {
          "base_uri": "https://localhost:8080/",
          "height": 51
        },
        "outputId": "ce7b65ea-5db4-409a-8cab-1d25fc258de9"
      },
      "source": [
        "print (\"Second in a million years ago \", second_in_Million_year_ago_v2)\n",
        "print (\"Second in a 13.77 billion years ago \", second_in_13_bill_year_ago_v2)"
      ],
      "execution_count": 186,
      "outputs": [
        {
          "output_type": "stream",
          "text": [
            "Second in a million years ago  0.9999999999999999997712461918\n",
            "Second in a 13.77 billion years ago  0.9999999999968500600609313797\n"
          ],
          "name": "stdout"
        }
      ]
    },
    {
      "cell_type": "markdown",
      "metadata": {
        "id": "kGx3zAEUUPXv",
        "colab_type": "text"
      },
      "source": [
        "**Experiment 3**"
      ]
    },
    {
      "cell_type": "code",
      "metadata": {
        "id": "4U8i1TKE3wX7",
        "colab_type": "code",
        "colab": {}
      },
      "source": [
        "\n"
      ],
      "execution_count": 187,
      "outputs": []
    },
    {
      "cell_type": "code",
      "metadata": {
        "id": "e5DBrkvZik2S",
        "colab_type": "code",
        "colab": {}
      },
      "source": [
        "\n"
      ],
      "execution_count": 187,
      "outputs": []
    },
    {
      "cell_type": "code",
      "metadata": {
        "id": "zIjJk50dW1-c",
        "colab_type": "code",
        "colab": {
          "base_uri": "https://localhost:8080/",
          "height": 51
        },
        "outputId": "7d84ff8c-1151-4e99-857a-0364a9930074"
      },
      "source": [
        "print(\"first universe second is \", first_universe_second)\n",
        "print(\"plank time is \", plank_time)"
      ],
      "execution_count": 188,
      "outputs": [
        {
          "output_type": "stream",
          "text": [
            "first universe second is  2.300144493236949550581207871E-40\n",
            "plank time is  5.391246448313605e-44\n"
          ],
          "name": "stdout"
        }
      ]
    },
    {
      "cell_type": "code",
      "metadata": {
        "id": "crNn6StK7bAs",
        "colab_type": "code",
        "colab": {
          "base_uri": "https://localhost:8080/",
          "height": 136
        },
        "outputId": "bd2e07df-465a-4519-e009-e60b4a1973b7"
      },
      "source": [
        "#Decimal(first_universe_second)/Decimal(plank_time)\n",
        "#ignore plank time for now and focus on how old is the universe.\n",
        "life_of_universe_in_years = Decimal(137860000000000000000000000000000)\n",
        "life_of_universe_in_sec = life_of_universe_in_years * Decimal(8760*60*60)\n",
        "first_universe_second = Decimal(1)/life_of_universe_in_sec\n",
        "\n",
        "\n",
        "\n",
        "print(\"the first universe second is\", first_universe_second)\n",
        "print(\"the second universe second is\", first_universe_second+ first_universe_second)\n",
        "print(\"the third universe second is\", first_universe_second+ first_universe_second + first_universe_second)\n",
        "print(\"the 1000th universe second is\", 1000*first_universe_second)\n",
        "print(\"Current universe second is\", life_of_universe_in_sec*first_universe_second)\n",
        "\n",
        "\"\"\"\n",
        "The length of the second a million light years ago is given by following calculation\n",
        "Step1: convert 1 million light years to second \n",
        "\"\"\"\n",
        "\n",
        "#step 1\n",
        "\n",
        "million_years_sec = Decimal(1000000*8760*60*60)\n",
        "print(\"1 Million year second is equal to \", million_years_sec, \"seconds\")\n",
        "\n",
        "# THe The length of second that is million_yeasrs_sec ago from now is given by following function:\n",
        "\n",
        "def length_of_sec_million_years_sec_ago(million_years_sec, age_of_universe_in_sec):\n",
        "  age_of_universe_in_sec = age_of_universe_in_sec\n",
        "  million_years_sec = million_years_sec\n",
        "\n",
        "  the_length_of_sec_mill_years_ago = (life_of_universe_in_sec-million_years_sec)*first_universe_second\n",
        "\n",
        "  return {\"the_length_of_sec_mill_years_ago\": the_length_of_sec_mill_years_ago,\n",
        "          \"THe second was shorter by\": (Decimal(1)-the_length_of_sec_mill_years_ago)}\n",
        "\n",
        "\n",
        "#Another idea:\n",
        "\n",
        "print(\"current second is\", Decimal(first_universe_second)* Decimal(life_of_universe_in_sec))\n"
      ],
      "execution_count": 243,
      "outputs": [
        {
          "output_type": "stream",
          "text": [
            "the first universe second is 2.300144493236949550581207871E-40\n",
            "the second universe second is 4.600288986473899101162415742E-40\n",
            "the third universe second is 6.900433479710848651743623613E-40\n",
            "the 1000th universe second is 2.300144493236949550581207871E-37\n",
            "Current universe second is 1.000000000000000000000000000\n",
            "1 Million year second is equal to  31536000000000 seconds\n",
            "current second is 1.000000000000000000000000000\n"
          ],
          "name": "stdout"
        }
      ]
    },
    {
      "cell_type": "code",
      "metadata": {
        "id": "As3LTMUif3s_",
        "colab_type": "code",
        "colab": {
          "base_uri": "https://localhost:8080/",
          "height": 51
        },
        "outputId": "dbfe0981-2026-43bf-eefc-5dd37e9e8ece"
      },
      "source": [
        "length_of_sec_million_years_sec_ago(million_years_sec=million_years_sec, age_of_universe_in_sec=age_of_universe_in_sec)"
      ],
      "execution_count": 241,
      "outputs": [
        {
          "output_type": "execute_result",
          "data": {
            "text/plain": [
              "{'THe second was shorter by': Decimal('7.4E-27'),\n",
              " 'the_length_of_sec_mill_years_ago': Decimal('0.9999999999999999999999999926')}"
            ]
          },
          "metadata": {
            "tags": []
          },
          "execution_count": 241
        }
      ]
    },
    {
      "cell_type": "markdown",
      "metadata": {
        "id": "KqHkqes1ggrV",
        "colab_type": "text"
      },
      "source": [
        "**Experiment 4**\n",
        "\n",
        "Since the origin of universe is approximation. Can 1/plank_time provides the time when the universe was originated. Lets explore on this concept more.\n",
        "\n",
        "From Experiment three, we see that the plank time and the first universe second are relatively close enough. The error is only four digit off. In the cosmic level, it can be because of the approximation error."
      ]
    },
    {
      "cell_type": "code",
      "metadata": {
        "id": "97nTjJoRgyCG",
        "colab_type": "code",
        "colab": {}
      },
      "source": [
        "age_of_universe_sec_exp4 = Decimal(1)/Decimal(plank_time)"
      ],
      "execution_count": 190,
      "outputs": []
    },
    {
      "cell_type": "code",
      "metadata": {
        "id": "q-CNpKvjhS4r",
        "colab_type": "code",
        "colab": {
          "base_uri": "https://localhost:8080/",
          "height": 34
        },
        "outputId": "d4168801-6050-4f1f-d30b-9ca2c56d1d95"
      },
      "source": [
        "print(\"Age of universe in second based on plank time is: \", age_of_universe_sec_exp4)"
      ],
      "execution_count": 191,
      "outputs": [
        {
          "output_type": "stream",
          "text": [
            "Age of universe in second based on plank time is:  1.854858629793862447263103167E+43\n"
          ],
          "name": "stdout"
        }
      ]
    },
    {
      "cell_type": "code",
      "metadata": {
        "id": "_U7dmGFhhbRm",
        "colab_type": "code",
        "colab": {}
      },
      "source": [
        "age_of_universe_years_exp4 = age_of_universe_sec_exp4/Decimal(8760*60*60)"
      ],
      "execution_count": 192,
      "outputs": []
    },
    {
      "cell_type": "code",
      "metadata": {
        "id": "gu4vKK06hs-u",
        "colab_type": "code",
        "colab": {
          "base_uri": "https://localhost:8080/",
          "height": 34
        },
        "outputId": "8a47eec9-3f93-43f0-c5d8-236096bd3dda"
      },
      "source": [
        "print(\"Age of universe in years based on plank time is: \", age_of_universe_years_exp4)"
      ],
      "execution_count": 193,
      "outputs": [
        {
          "output_type": "stream",
          "text": [
            "Age of universe in years based on plank time is:  5.881718131005398424857633076E+35\n"
          ],
          "name": "stdout"
        }
      ]
    },
    {
      "cell_type": "code",
      "metadata": {
        "id": "6ALtfpMbhyr-",
        "colab_type": "code",
        "colab": {}
      },
      "source": [
        ""
      ],
      "execution_count": 193,
      "outputs": []
    },
    {
      "cell_type": "markdown",
      "metadata": {
        "id": "oeGwW9iyiVdx",
        "colab_type": "text"
      },
      "source": [
        "This looks little off\n",
        "\n",
        "**Experiment 5**\n",
        "\n",
        "From the above mention we found that the planktime**PlankTime =1\n",
        "\n",
        "From the above observation we can deduct the following."
      ]
    },
    {
      "cell_type": "code",
      "metadata": {
        "id": "uOFkWqQ5CPSZ",
        "colab_type": "code",
        "colab": {}
      },
      "source": [
        "plank_time = np.sqrt((constants.hbar*constants.gravitational_constant)/constants.speed_of_light**5) # eqn1"
      ],
      "execution_count": 203,
      "outputs": []
    },
    {
      "cell_type": "code",
      "metadata": {
        "id": "9HNkhaa8CzIy",
        "colab_type": "code",
        "colab": {
          "base_uri": "https://localhost:8080/",
          "height": 34
        },
        "outputId": "2db89a7b-1f04-414d-d978-90930315a4c0"
      },
      "source": [
        "Decimal(plank_time)**Decimal(plank_time) #eqn 2"
      ],
      "execution_count": 204,
      "outputs": [
        {
          "output_type": "execute_result",
          "data": {
            "text/plain": [
              "Decimal('1.000000000000000000000000000')"
            ]
          },
          "metadata": {
            "tags": []
          },
          "execution_count": 204
        }
      ]
    },
    {
      "cell_type": "code",
      "metadata": {
        "id": "ZqeW28FYCfwg",
        "colab_type": "code",
        "colab": {}
      },
      "source": [
        "plank_length = np.sqrt((constants.hbar*constants.gravitational_constant)/constants.speed_of_light**3) #eqn 3"
      ],
      "execution_count": 205,
      "outputs": []
    },
    {
      "cell_type": "code",
      "metadata": {
        "id": "o8a3_hijCqWg",
        "colab_type": "code",
        "colab": {
          "base_uri": "https://localhost:8080/",
          "height": 34
        },
        "outputId": "799ab186-b865-46b0-c9a0-7cd920af5ac8"
      },
      "source": [
        "Decimal(plank_length)**Decimal(plank_length)"
      ],
      "execution_count": 206,
      "outputs": [
        {
          "output_type": "execute_result",
          "data": {
            "text/plain": [
              "Decimal('1.000000000000000000000000000')"
            ]
          },
          "metadata": {
            "tags": []
          },
          "execution_count": 206
        }
      ]
    },
    {
      "cell_type": "code",
      "metadata": {
        "id": "ey2XNqRqEIRI",
        "colab_type": "code",
        "colab": {}
      },
      "source": [
        ""
      ],
      "execution_count": null,
      "outputs": []
    }
  ]
}