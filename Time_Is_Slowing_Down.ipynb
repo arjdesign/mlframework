{
  "nbformat": 4,
  "nbformat_minor": 0,
  "metadata": {
    "colab": {
      "name": "Time Is Slowing Down.ipynb",
      "provenance": [],
      "collapsed_sections": [],
      "authorship_tag": "ABX9TyP8z/IiGFjlJuNRv8GqoSUN",
      "include_colab_link": true
    },
    "kernelspec": {
      "name": "python3",
      "display_name": "Python 3"
    }
  },
  "cells": [
    {
      "cell_type": "markdown",
      "metadata": {
        "id": "view-in-github",
        "colab_type": "text"
      },
      "source": [
        "<a href=\"https://colab.research.google.com/github/arjdesign/mlframework/blob/master/Time_Is_Slowing_Down.ipynb\" target=\"_parent\"><img src=\"https://colab.research.google.com/assets/colab-badge.svg\" alt=\"Open In Colab\"/></a>"
      ]
    },
    {
      "cell_type": "code",
      "metadata": {
        "id": "xBES20Qny7-u",
        "colab_type": "code",
        "colab": {}
      },
      "source": [
        "from decimal import *\n",
        "from scipy import constants\n",
        "import numpy as np"
      ],
      "execution_count": 4,
      "outputs": []
    },
    {
      "cell_type": "code",
      "metadata": {
        "id": "BjYPCyU43yM6",
        "colab_type": "code",
        "colab": {
          "base_uri": "https://localhost:8080/",
          "height": 34
        },
        "outputId": "97888bbb-ffb0-4770-bb8b-08418a4c1666"
      },
      "source": [
        "getcontext()"
      ],
      "execution_count": 6,
      "outputs": [
        {
          "output_type": "execute_result",
          "data": {
            "text/plain": [
              "Context(prec=28, rounding=ROUND_HALF_EVEN, Emin=-999999, Emax=999999, capitals=1, clamp=0, flags=[], traps=[InvalidOperation, DivisionByZero, Overflow])"
            ]
          },
          "metadata": {
            "tags": []
          },
          "execution_count": 6
        }
      ]
    },
    {
      "cell_type": "code",
      "metadata": {
        "id": "GjJQQeC74pvr",
        "colab_type": "code",
        "colab": {
          "base_uri": "https://localhost:8080/",
          "height": 34
        },
        "outputId": "ede1eca3-78c7-45a6-ce10-297d885e1594"
      },
      "source": [
        "with localcontext() as ctx:\n",
        "  ctx.prec = 60\n",
        "  plank_time = np.sqrt((constants.hbar*constants.gravitational_constant)/constants.speed_of_light**5)\n"
      ],
      "execution_count": 9,
      "outputs": [
        {
          "output_type": "execute_result",
          "data": {
            "text/plain": [
              "5.391246448313605e-44"
            ]
          },
          "metadata": {
            "tags": []
          },
          "execution_count": 9
        }
      ]
    },
    {
      "cell_type": "code",
      "metadata": {
        "id": "t7qSCDV2zB4z",
        "colab_type": "code",
        "colab": {}
      },
      "source": [
        ""
      ],
      "execution_count": 9,
      "outputs": []
    },
    {
      "cell_type": "code",
      "metadata": {
        "id": "Ocvpf5kMz2pW",
        "colab_type": "code",
        "colab": {
          "base_uri": "https://localhost:8080/",
          "height": 34
        },
        "outputId": "9438a6f5-9204-4f69-a834-1bab33eed737"
      },
      "source": [
        "plank_time"
      ],
      "execution_count": 10,
      "outputs": [
        {
          "output_type": "execute_result",
          "data": {
            "text/plain": [
              "5.391246448313605e-44"
            ]
          },
          "metadata": {
            "tags": []
          },
          "execution_count": 10
        }
      ]
    },
    {
      "cell_type": "code",
      "metadata": {
        "id": "zVtDkAqxz4Ap",
        "colab_type": "code",
        "colab": {}
      },
      "source": [
        ""
      ],
      "execution_count": null,
      "outputs": []
    },
    {
      "cell_type": "markdown",
      "metadata": {
        "id": "aQnyQeFi01Aa",
        "colab_type": "text"
      },
      "source": [
        "**Hypothesis:**\n",
        "\n",
        "Time is slowing down as the rate of plank time per second. This is the reason why we experience accelerated expansion of the universe.\n",
        "\n",
        "Experiments.\n",
        "\n",
        "Lets assume that two drivers are raching side by side at 10m/s. Both are driving symultaniously. In this scenerio both of them would feel that they have equal velocity. That means dV (v1-v2) =0\n",
        "\n",
        "Case 1: \n",
        "Assume that one driver1 is driving at time t1 = now and the driver 2 is driving one seconds ago. Driver1 is driving at 10m/s1. Here the s1 is the second at time t1 and the \n",
        "LIkewise driver2 is driving at 10m/s2. S2 is the second at 2.\n",
        "\n",
        "In this case the s1 and s2 have different.\n",
        "\n",
        "\n",
        "\n"
      ]
    },
    {
      "cell_type": "code",
      "metadata": {
        "id": "TKWaT1eA1KbY",
        "colab_type": "code",
        "colab": {
          "base_uri": "https://localhost:8080/",
          "height": 34
        },
        "outputId": "76240eda-6c74-40b0-cd9e-bf24ff31c810"
      },
      "source": [
        "with localcontext() as ctx:\n",
        "  ctx.prec = 60\n",
        "  time_now_in_sec = 1\n",
        "  time_one_sec_ago_in_sec = 1.0- 100000*plank_time\n",
        "time_one_sec_ago_in_sec"
      ],
      "execution_count": 13,
      "outputs": [
        {
          "output_type": "execute_result",
          "data": {
            "text/plain": [
              "1.0"
            ]
          },
          "metadata": {
            "tags": []
          },
          "execution_count": 13
        }
      ]
    },
    {
      "cell_type": "code",
      "metadata": {
        "id": "SXClJo5M3E7C",
        "colab_type": "code",
        "colab": {
          "base_uri": "https://localhost:8080/",
          "height": 34
        },
        "outputId": "d6370081-63e4-4a0b-94b9-a397beccee01"
      },
      "source": [
        "Dectime_one_sec_ago_in_sec"
      ],
      "execution_count": 16,
      "outputs": [
        {
          "output_type": "execute_result",
          "data": {
            "text/plain": [
              "1.0"
            ]
          },
          "metadata": {
            "tags": []
          },
          "execution_count": 16
        }
      ]
    },
    {
      "cell_type": "code",
      "metadata": {
        "id": "C87hhFMm7F7D",
        "colab_type": "code",
        "colab": {}
      },
      "source": [
        "no_of_seconds_in_million_year = Decimal(1000000*8760*60*60)\n",
        "no_of_seconds_in_13_bill_year = Decimal(13770000000000*8760*60*60)"
      ],
      "execution_count": 60,
      "outputs": []
    },
    {
      "cell_type": "code",
      "metadata": {
        "id": "I8YNDtyr9V3u",
        "colab_type": "code",
        "colab": {
          "base_uri": "https://localhost:8080/",
          "height": 34
        },
        "outputId": "17a1514a-d874-4ab7-fd60-e2d6dcef2b96"
      },
      "source": [
        "no_of_seconds_in_million_year"
      ],
      "execution_count": 25,
      "outputs": [
        {
          "output_type": "execute_result",
          "data": {
            "text/plain": [
              "Decimal('31536000000000')"
            ]
          },
          "metadata": {
            "tags": []
          },
          "execution_count": 25
        }
      ]
    },
    {
      "cell_type": "code",
      "metadata": {
        "id": "01xVX-eA9X9i",
        "colab_type": "code",
        "colab": {}
      },
      "source": [
        "second_in_Million_year_ago = Decimal(1 - (no_of_seconds_in_million_year*Decimal(plank_time) ))\n",
        "second_in_13_bill_year_ago = Decimal(1 - (no_of_seconds_in_13_bill_year*Decimal(plank_time) ))"
      ],
      "execution_count": 61,
      "outputs": []
    },
    {
      "cell_type": "code",
      "metadata": {
        "id": "mcBdoyuR962p",
        "colab_type": "code",
        "colab": {
          "base_uri": "https://localhost:8080/",
          "height": 51
        },
        "outputId": "6fa2b5b3-ffab-43b6-b407-065b0dc0b517"
      },
      "source": [
        "print (\"Second in a million years ago \", second_in_Million_year_ago)\n",
        "print (\"Second in a 13.77 billion years ago \", second_in_13_bill_year_ago)"
      ],
      "execution_count": 62,
      "outputs": [
        {
          "output_type": "stream",
          "text": [
            "Second in a million years ago  0.999999999999999999999999999998299816520059821668587988676528\n",
            "Second in a 13.77 billion years ago  0.999999999999999999999976588473481223744376456604075787501039\n"
          ],
          "name": "stdout"
        }
      ]
    },
    {
      "cell_type": "code",
      "metadata": {
        "id": "6TcdixMP-L8Z",
        "colab_type": "code",
        "colab": {}
      },
      "source": [
        "#How much is the second shorter in a million years?\n",
        "second_today = 1\n",
        "second_decreased_by = second_today - second_in_Million_year_ago"
      ],
      "execution_count": 33,
      "outputs": []
    },
    {
      "cell_type": "code",
      "metadata": {
        "id": "7sYUMWO5-s0B",
        "colab_type": "code",
        "colab": {
          "base_uri": "https://localhost:8080/",
          "height": 34
        },
        "outputId": "7c63b7c1-9af0-4cd1-c6e5-19dafa9acc68"
      },
      "source": [
        "print(\"second is decreased by in a million year\",  second_decreased_by)"
      ],
      "execution_count": 63,
      "outputs": [
        {
          "output_type": "stream",
          "text": [
            "second is decreased by in a million year 1.700183479940178331412011323472E-30\n"
          ],
          "name": "stdout"
        }
      ]
    },
    {
      "cell_type": "code",
      "metadata": {
        "id": "8eR3ndU0_CgT",
        "colab_type": "code",
        "colab": {}
      },
      "source": [
        ""
      ],
      "execution_count": null,
      "outputs": []
    },
    {
      "cell_type": "markdown",
      "metadata": {
        "id": "mkVJjX3yAFma",
        "colab_type": "text"
      },
      "source": [
        "THe speed of solar system is 230 km per second and if. If an object that is 1 million light year away was moving with exact 230km per second we would not experience that difference in speed. "
      ]
    },
    {
      "cell_type": "code",
      "metadata": {
        "id": "uiuyGqTMAi1s",
        "colab_type": "code",
        "colab": {}
      },
      "source": [
        "#adjusting the speed \n",
        "\n",
        "speed = Decimal(230)/Decimal(second_in_Million_year_ago)\n",
        "  "
      ],
      "execution_count": 58,
      "outputs": []
    },
    {
      "cell_type": "code",
      "metadata": {
        "id": "kZ8odNulBgOR",
        "colab_type": "code",
        "colab": {
          "base_uri": "https://localhost:8080/",
          "height": 34
        },
        "outputId": "39299b73-b15c-4dac-aaac-2903c0956d89"
      },
      "source": [
        "speed"
      ],
      "execution_count": 43,
      "outputs": [
        {
          "output_type": "execute_result",
          "data": {
            "text/plain": [
              "Decimal('230.000000000000000000000000000391042200386241016224762604399')"
            ]
          },
          "metadata": {
            "tags": []
          },
          "execution_count": 43
        }
      ]
    },
    {
      "cell_type": "code",
      "metadata": {
        "id": "ws862-UEBhVQ",
        "colab_type": "code",
        "colab": {}
      },
      "source": [
        "current_second = Decimal(plank_time)**Decimal(138200000000000000000000000000000)"
      ],
      "execution_count": 56,
      "outputs": []
    },
    {
      "cell_type": "code",
      "metadata": {
        "id": "3bOtKdAwCles",
        "colab_type": "code",
        "colab": {
          "base_uri": "https://localhost:8080/",
          "height": 34
        },
        "outputId": "cd07e42f-9442-4354-98a7-33fcb4b96095"
      },
      "source": [
        "Decimal(current_second)"
      ],
      "execution_count": 57,
      "outputs": [
        {
          "output_type": "execute_result",
          "data": {
            "text/plain": [
              "Decimal('0E-1000058')"
            ]
          },
          "metadata": {
            "tags": []
          },
          "execution_count": 57
        }
      ]
    },
    {
      "cell_type": "code",
      "metadata": {
        "id": "XAq7S0nkC5Nh",
        "colab_type": "code",
        "colab": {
          "base_uri": "https://localhost:8080/",
          "height": 34
        },
        "outputId": "83910d9a-7d9e-4333-bcce-b3573553fff9"
      },
      "source": [
        "# Experiment 2:\n",
        "\n",
        "Decimal(second_decreased_by)*Decimal(75)"
      ],
      "execution_count": 64,
      "outputs": [
        {
          "output_type": "execute_result",
          "data": {
            "text/plain": [
              "Decimal('1.27513760995513374855900849260400E-28')"
            ]
          },
          "metadata": {
            "tags": []
          },
          "execution_count": 64
        }
      ]
    },
    {
      "cell_type": "code",
      "metadata": {
        "id": "Dzm1v3NjGzDN",
        "colab_type": "code",
        "colab": {}
      },
      "source": [
        ""
      ],
      "execution_count": null,
      "outputs": []
    }
  ]
}