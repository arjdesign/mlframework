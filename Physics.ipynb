{
  "nbformat": 4,
  "nbformat_minor": 0,
  "metadata": {
    "colab": {
      "name": "Physics.ipynb",
      "provenance": [],
      "collapsed_sections": [],
      "authorship_tag": "ABX9TyNOOWycUq3EaW1Yb4tBAxFI",
      "include_colab_link": true
    },
    "kernelspec": {
      "name": "python3",
      "display_name": "Python 3"
    }
  },
  "cells": [
    {
      "cell_type": "markdown",
      "metadata": {
        "id": "view-in-github",
        "colab_type": "text"
      },
      "source": [
        "<a href=\"https://colab.research.google.com/github/arjdesign/mlframework/blob/master/Physics.ipynb\" target=\"_parent\"><img src=\"https://colab.research.google.com/assets/colab-badge.svg\" alt=\"Open In Colab\"/></a>"
      ]
    },
    {
      "cell_type": "code",
      "metadata": {
        "id": "xBES20Qny7-u"
      },
      "source": [
        "from decimal import *\n",
        "from scipy import constants\n",
        "import numpy as np"
      ],
      "execution_count": null,
      "outputs": []
    },
    {
      "cell_type": "code",
      "metadata": {
        "id": "BjYPCyU43yM6",
        "outputId": "259d8b29-2bee-44a5-fe10-69255ebf958d",
        "colab": {
          "base_uri": "https://localhost:8080/",
          "height": 34
        }
      },
      "source": [
        "getcontext()"
      ],
      "execution_count": null,
      "outputs": [
        {
          "output_type": "execute_result",
          "data": {
            "text/plain": [
              "Context(prec=28, rounding=ROUND_HALF_EVEN, Emin=-999999, Emax=999999, capitals=1, clamp=0, flags=[], traps=[InvalidOperation, DivisionByZero, Overflow])"
            ]
          },
          "metadata": {
            "tags": []
          },
          "execution_count": 2
        }
      ]
    },
    {
      "cell_type": "code",
      "metadata": {
        "id": "GjJQQeC74pvr"
      },
      "source": [
        "with localcontext() as ctx:\n",
        "  ctx.prec = 60\n",
        "  plank_time = np.sqrt((constants.hbar*constants.gravitational_constant)/constants.speed_of_light**5)\n"
      ],
      "execution_count": null,
      "outputs": []
    },
    {
      "cell_type": "code",
      "metadata": {
        "id": "t7qSCDV2zB4z"
      },
      "source": [
        ""
      ],
      "execution_count": null,
      "outputs": []
    },
    {
      "cell_type": "code",
      "metadata": {
        "id": "Ocvpf5kMz2pW",
        "outputId": "6b95940d-3ecc-43f7-d7ae-f99f38e077f9",
        "colab": {
          "base_uri": "https://localhost:8080/",
          "height": 34
        }
      },
      "source": [
        "plank_time"
      ],
      "execution_count": null,
      "outputs": [
        {
          "output_type": "execute_result",
          "data": {
            "text/plain": [
              "5.391246448313605e-44"
            ]
          },
          "metadata": {
            "tags": []
          },
          "execution_count": 4
        }
      ]
    },
    {
      "cell_type": "code",
      "metadata": {
        "id": "zVtDkAqxz4Ap"
      },
      "source": [
        ""
      ],
      "execution_count": null,
      "outputs": []
    },
    {
      "cell_type": "markdown",
      "metadata": {
        "id": "aQnyQeFi01Aa"
      },
      "source": [
        "**Hypothesis:**\n",
        "\n",
        "Time is slowing down as the rate of plank time per second. This is the reason why we experience accelerated expansion of the universe.\n",
        "\n",
        "Experiments.\n",
        "\n",
        "Lets assume that two drivers are raching side by side at 10m/s. Both are driving symultaniously. In this scenerio both of them would feel that they have equal velocity. That means dV (v1-v2) =0\n",
        "\n",
        "Case 1: \n",
        "Assume that one driver1 is driving at time t1 = now and the driver 2 is driving one seconds ago. Driver1 is driving at 10m/s1. Here the s1 is the second at time t1 and the \n",
        "LIkewise driver2 is driving at 10m/s2. S2 is the second at 2.\n",
        "\n",
        "In this case the s1 and s2 have different.\n",
        "\n",
        "\n",
        "\n"
      ]
    },
    {
      "cell_type": "code",
      "metadata": {
        "id": "TKWaT1eA1KbY",
        "outputId": "10640752-1eea-4309-963e-fdf558bf2fe3",
        "colab": {
          "base_uri": "https://localhost:8080/",
          "height": 34
        }
      },
      "source": [
        "with localcontext() as ctx:\n",
        "  ctx.prec = 60\n",
        "  time_now_in_sec = 1\n",
        "  time_one_sec_ago_in_sec = 1.0- 100000*plank_time\n",
        "time_one_sec_ago_in_sec"
      ],
      "execution_count": null,
      "outputs": [
        {
          "output_type": "execute_result",
          "data": {
            "text/plain": [
              "1.0"
            ]
          },
          "metadata": {
            "tags": []
          },
          "execution_count": 5
        }
      ]
    },
    {
      "cell_type": "code",
      "metadata": {
        "id": "SXClJo5M3E7C"
      },
      "source": [
        ""
      ],
      "execution_count": null,
      "outputs": []
    },
    {
      "cell_type": "code",
      "metadata": {
        "id": "C87hhFMm7F7D"
      },
      "source": [
        "no_of_seconds_in_million_year = Decimal(1000000*8760*60*60)\n",
        "no_of_seconds_in_13_bill_year = Decimal(13770000000000*8760*60*60)"
      ],
      "execution_count": null,
      "outputs": []
    },
    {
      "cell_type": "code",
      "metadata": {
        "id": "I8YNDtyr9V3u",
        "outputId": "8f95aaff-d083-4a5e-9bfd-52202c9cddf5",
        "colab": {
          "base_uri": "https://localhost:8080/",
          "height": 34
        }
      },
      "source": [
        "no_of_seconds_in_million_year"
      ],
      "execution_count": null,
      "outputs": [
        {
          "output_type": "execute_result",
          "data": {
            "text/plain": [
              "Decimal('31536000000000')"
            ]
          },
          "metadata": {
            "tags": []
          },
          "execution_count": 7
        }
      ]
    },
    {
      "cell_type": "code",
      "metadata": {
        "id": "01xVX-eA9X9i"
      },
      "source": [
        "second_in_Million_year_ago = Decimal(1 - (no_of_seconds_in_million_year*Decimal(plank_time) ))\n",
        "second_in_13_bill_year_ago = Decimal(1 - (no_of_seconds_in_13_bill_year*Decimal(plank_time) ))"
      ],
      "execution_count": null,
      "outputs": []
    },
    {
      "cell_type": "code",
      "metadata": {
        "id": "mcBdoyuR962p",
        "outputId": "72f32304-2a22-4644-9c44-2726bb455e25",
        "colab": {
          "base_uri": "https://localhost:8080/",
          "height": 51
        }
      },
      "source": [
        "print (\"Second in a million years ago \", second_in_Million_year_ago)\n",
        "print (\"Second in a 13.77 billion years ago \", second_in_13_bill_year_ago)"
      ],
      "execution_count": null,
      "outputs": [
        {
          "output_type": "stream",
          "text": [
            "Second in a million years ago  1.000000000000000000000000000\n",
            "Second in a 13.77 billion years ago  0.9999999999999999999999765885\n"
          ],
          "name": "stdout"
        }
      ]
    },
    {
      "cell_type": "code",
      "metadata": {
        "id": "6TcdixMP-L8Z"
      },
      "source": [
        "#How much is the second shorter in a million years?\n",
        "second_today = 1\n",
        "second_decreased_by = second_today - second_in_Million_year_ago"
      ],
      "execution_count": null,
      "outputs": []
    },
    {
      "cell_type": "code",
      "metadata": {
        "id": "7sYUMWO5-s0B",
        "outputId": "6c3587db-179d-488d-ef12-f641fa787e6a",
        "colab": {
          "base_uri": "https://localhost:8080/",
          "height": 34
        }
      },
      "source": [
        "print(\"second is decreased by in a million year\",  second_decreased_by)"
      ],
      "execution_count": null,
      "outputs": [
        {
          "output_type": "stream",
          "text": [
            "second is decreased by in a million year 0E-27\n"
          ],
          "name": "stdout"
        }
      ]
    },
    {
      "cell_type": "code",
      "metadata": {
        "id": "8eR3ndU0_CgT"
      },
      "source": [
        ""
      ],
      "execution_count": null,
      "outputs": []
    },
    {
      "cell_type": "markdown",
      "metadata": {
        "id": "mkVJjX3yAFma"
      },
      "source": [
        "THe speed of solar system is 230 km per second and if. If an object that is 1 million light year away was moving with exact 230km per second we would not experience that difference in speed. "
      ]
    },
    {
      "cell_type": "code",
      "metadata": {
        "id": "uiuyGqTMAi1s"
      },
      "source": [
        "#adjusting the speed \n",
        "\n",
        "speed = Decimal(230)/Decimal(second_in_Million_year_ago)\n",
        "  "
      ],
      "execution_count": null,
      "outputs": []
    },
    {
      "cell_type": "code",
      "metadata": {
        "id": "kZ8odNulBgOR",
        "outputId": "ce62360b-2d26-44cc-b74e-d9962d2c3510",
        "colab": {
          "base_uri": "https://localhost:8080/",
          "height": 34
        }
      },
      "source": [
        "speed"
      ],
      "execution_count": null,
      "outputs": [
        {
          "output_type": "execute_result",
          "data": {
            "text/plain": [
              "Decimal('2.3E+2')"
            ]
          },
          "metadata": {
            "tags": []
          },
          "execution_count": 13
        }
      ]
    },
    {
      "cell_type": "code",
      "metadata": {
        "id": "ws862-UEBhVQ"
      },
      "source": [
        "current_second = Decimal(plank_time)**Decimal(137860000000000000000000000000000)"
      ],
      "execution_count": null,
      "outputs": []
    },
    {
      "cell_type": "code",
      "metadata": {
        "id": "3bOtKdAwCles",
        "outputId": "71ad1c1a-6edf-48bb-c838-0ecdbf9a6a8c",
        "colab": {
          "base_uri": "https://localhost:8080/",
          "height": 34
        }
      },
      "source": [
        "Decimal(current_second)"
      ],
      "execution_count": null,
      "outputs": [
        {
          "output_type": "execute_result",
          "data": {
            "text/plain": [
              "Decimal('0E-1000026')"
            ]
          },
          "metadata": {
            "tags": []
          },
          "execution_count": 15
        }
      ]
    },
    {
      "cell_type": "code",
      "metadata": {
        "id": "XAq7S0nkC5Nh",
        "outputId": "80fe334e-fb34-4ad2-a21b-a1445aa3a346",
        "colab": {
          "base_uri": "https://localhost:8080/",
          "height": 34
        }
      },
      "source": [
        "# Experiment 2:\n",
        "\n",
        "Decimal(second_decreased_by)*Decimal(75)"
      ],
      "execution_count": null,
      "outputs": [
        {
          "output_type": "execute_result",
          "data": {
            "text/plain": [
              "Decimal('0E-27')"
            ]
          },
          "metadata": {
            "tags": []
          },
          "execution_count": 16
        }
      ]
    },
    {
      "cell_type": "code",
      "metadata": {
        "id": "Dzm1v3NjGzDN",
        "outputId": "fc508881-3207-4f7d-be8d-5e99718808c4",
        "colab": {
          "base_uri": "https://localhost:8080/",
          "height": 34
        }
      },
      "source": [
        "plank_time**plank_time"
      ],
      "execution_count": null,
      "outputs": [
        {
          "output_type": "execute_result",
          "data": {
            "text/plain": [
              "1.0"
            ]
          },
          "metadata": {
            "tags": []
          },
          "execution_count": 17
        }
      ]
    },
    {
      "cell_type": "code",
      "metadata": {
        "id": "bG7J_nL-JoTh",
        "outputId": "6adc8a45-d2f2-4446-fec1-dc617fa94eed",
        "colab": {
          "base_uri": "https://localhost:8080/",
          "height": 34
        }
      },
      "source": [
        "print (\"Plank time to the power plank time is\",Decimal(plank_time)**Decimal(plank_time))"
      ],
      "execution_count": null,
      "outputs": [
        {
          "output_type": "stream",
          "text": [
            "Plank time to the power plank time is 1.000000000000000000000000000\n"
          ],
          "name": "stdout"
        }
      ]
    },
    {
      "cell_type": "code",
      "metadata": {
        "id": "FgyvhBL0Jsj4",
        "outputId": "93a4fdcc-44f3-470b-92a5-8fb1ea2660da",
        "colab": {
          "base_uri": "https://localhost:8080/",
          "height": 34
        }
      },
      "source": [
        "print (\"Plank time to the power beginning of universe is\",Decimal(plank_time)**Decimal(second_in_13_bill_year_ago))"
      ],
      "execution_count": null,
      "outputs": [
        {
          "output_type": "stream",
          "text": [
            "Plank time to the power beginning of universe is 5.391246448313604551674203892E-44\n"
          ],
          "name": "stdout"
        }
      ]
    },
    {
      "cell_type": "markdown",
      "metadata": {
        "id": "FUXwBt5B0eUr"
      },
      "source": [
        "From the above thouyght experiment it seems that the rate of increasing of time persecond has to be far greater than than the plank time.\n",
        "\n",
        "**Experiment 2 **\n"
      ]
    },
    {
      "cell_type": "code",
      "metadata": {
        "id": "mXSgT4w01GNm"
      },
      "source": [
        ""
      ],
      "execution_count": null,
      "outputs": []
    },
    {
      "cell_type": "code",
      "metadata": {
        "id": "QRGWlv6c1q6H"
      },
      "source": [
        ""
      ],
      "execution_count": null,
      "outputs": []
    },
    {
      "cell_type": "code",
      "metadata": {
        "id": "EPuUOjbt104x"
      },
      "source": [
        "#use this to find out the second one million years ago\n",
        "\n",
        "#second_in_Million_year_ago_v2 = Decimal(1 - (no_of_seconds_in_million_year*Decimal(smallest_second_K) ))\n",
        "#second_in_13_bill_year_ago_v2 = Decimal(1 - (no_of_seconds_in_13_bill_year*Decimal(smallest_second_K) ))"
      ],
      "execution_count": null,
      "outputs": []
    },
    {
      "cell_type": "code",
      "metadata": {
        "id": "1wRxjRbv2JIZ"
      },
      "source": [
        "\n"
      ],
      "execution_count": null,
      "outputs": []
    },
    {
      "cell_type": "markdown",
      "metadata": {
        "id": "kGx3zAEUUPXv"
      },
      "source": [
        "**Experiment 3**"
      ]
    },
    {
      "cell_type": "code",
      "metadata": {
        "id": "4U8i1TKE3wX7"
      },
      "source": [
        "\n"
      ],
      "execution_count": null,
      "outputs": []
    },
    {
      "cell_type": "code",
      "metadata": {
        "id": "e5DBrkvZik2S"
      },
      "source": [
        "\n"
      ],
      "execution_count": null,
      "outputs": []
    },
    {
      "cell_type": "code",
      "metadata": {
        "id": "zIjJk50dW1-c"
      },
      "source": [
        ""
      ],
      "execution_count": null,
      "outputs": []
    },
    {
      "cell_type": "code",
      "metadata": {
        "id": "crNn6StK7bAs",
        "outputId": "74de3bde-5527-49cc-8f7a-ee90ece783b1",
        "colab": {
          "base_uri": "https://localhost:8080/",
          "height": 136
        }
      },
      "source": [
        "#Decimal(first_universe_second)/Decimal(plank_time)\n",
        "#ignore plank time for now and focus on how old is the universe.\n",
        "life_of_universe_in_years = Decimal(137860000000000000000000000000000)\n",
        "life_of_universe_in_sec = life_of_universe_in_years * Decimal(8760*60*60)\n",
        "first_universe_second = Decimal(1)/life_of_universe_in_sec\n",
        "\n",
        "\n",
        "\n",
        "print(\"the first universe second is\", first_universe_second)\n",
        "print(\"the second universe second is\", first_universe_second+ first_universe_second)\n",
        "print(\"the third universe second is\", first_universe_second+ first_universe_second + first_universe_second)\n",
        "print(\"the 1000th universe second is\", 1000*first_universe_second)\n",
        "print(\"Current universe second is\", life_of_universe_in_sec*first_universe_second)\n",
        "\n",
        "\"\"\"\n",
        "The length of the second a million light years ago is given by following calculation\n",
        "Step1: convert 1 million light years to second \n",
        "\"\"\"\n",
        "\n",
        "#step 1\n",
        "\n",
        "million_years_sec = Decimal(1000000*8760*60*60)\n",
        "print(\"1 Million year second is equal to \", million_years_sec, \"seconds\")\n",
        "\n",
        "# THe The length of second that is million_yeasrs_sec ago from now is given by following function:\n",
        "\n",
        "def length_of_sec_million_years_sec_ago(million_years_sec, life_of_universe_in_sec):\n",
        "  life_of_universe_in_sec = life_of_universe_in_sec\n",
        "  million_years_sec = million_years_sec\n",
        "\n",
        "  the_length_of_sec_mill_years_ago = (life_of_universe_in_sec-million_years_sec)*first_universe_second\n",
        "\n",
        "  return {\"the_length_of_sec_mill_years_ago\": the_length_of_sec_mill_years_ago,\n",
        "          \"THe second was shorter by\": (Decimal(1)-the_length_of_sec_mill_years_ago)}\n",
        "\n",
        "\n",
        "#Another idea:\n",
        "\n",
        "print(\"current second is\", Decimal(first_universe_second)* Decimal(life_of_universe_in_sec))\n"
      ],
      "execution_count": null,
      "outputs": [
        {
          "output_type": "stream",
          "text": [
            "the first universe second is 2.300144493236949550581207871E-40\n",
            "the second universe second is 4.600288986473899101162415742E-40\n",
            "the third universe second is 6.900433479710848651743623613E-40\n",
            "the 1000th universe second is 2.300144493236949550581207871E-37\n",
            "Current universe second is 1.000000000000000000000000000\n",
            "1 Million year second is equal to  31536000000000 seconds\n",
            "current second is 1.000000000000000000000000000\n"
          ],
          "name": "stdout"
        }
      ]
    },
    {
      "cell_type": "code",
      "metadata": {
        "id": "As3LTMUif3s_",
        "outputId": "9f6667b5-5e9f-4624-d776-1c19ec50ff95",
        "colab": {
          "base_uri": "https://localhost:8080/",
          "height": 51
        }
      },
      "source": [
        "length_of_sec_million_years_sec_ago(million_years_sec=million_years_sec, life_of_universe_in_sec=life_of_universe_in_sec)"
      ],
      "execution_count": null,
      "outputs": [
        {
          "output_type": "execute_result",
          "data": {
            "text/plain": [
              "{'THe second was shorter by': Decimal('7.4E-27'),\n",
              " 'the_length_of_sec_mill_years_ago': Decimal('0.9999999999999999999999999926')}"
            ]
          },
          "metadata": {
            "tags": []
          },
          "execution_count": 22
        }
      ]
    },
    {
      "cell_type": "code",
      "metadata": {
        "id": "P6CyJP-18pFy"
      },
      "source": [
        ""
      ],
      "execution_count": null,
      "outputs": []
    },
    {
      "cell_type": "markdown",
      "metadata": {
        "id": "KqHkqes1ggrV"
      },
      "source": [
        "**Experiment 4**\n",
        "\n",
        "Since the origin of universe is approximation. Can 1/plank_time provides the time when the universe was originated. Lets explore on this concept more.\n",
        "\n",
        "From Experiment three, we see that the plank time and the first universe second are relatively close enough. The error is only four digit off. In the cosmic level, it can be because of the approximation error."
      ]
    },
    {
      "cell_type": "code",
      "metadata": {
        "id": "97nTjJoRgyCG"
      },
      "source": [
        "age_of_universe_sec_exp4 = Decimal(1)/Decimal(plank_time)"
      ],
      "execution_count": null,
      "outputs": []
    },
    {
      "cell_type": "code",
      "metadata": {
        "id": "q-CNpKvjhS4r",
        "outputId": "3c9d93f2-359d-40ae-b3ea-e67982391566",
        "colab": {
          "base_uri": "https://localhost:8080/",
          "height": 34
        }
      },
      "source": [
        "print(\"Age of universe in second based on plank time is: \", age_of_universe_sec_exp4)"
      ],
      "execution_count": null,
      "outputs": [
        {
          "output_type": "stream",
          "text": [
            "Age of universe in second based on plank time is:  1.854858629793862447263103167E+43\n"
          ],
          "name": "stdout"
        }
      ]
    },
    {
      "cell_type": "code",
      "metadata": {
        "id": "_U7dmGFhhbRm"
      },
      "source": [
        "age_of_universe_years_exp4 = age_of_universe_sec_exp4/Decimal(8760*60*60)"
      ],
      "execution_count": null,
      "outputs": []
    },
    {
      "cell_type": "code",
      "metadata": {
        "id": "gu4vKK06hs-u",
        "outputId": "7c8676bc-81ac-4922-c282-be2c68932297",
        "colab": {
          "base_uri": "https://localhost:8080/",
          "height": 34
        }
      },
      "source": [
        "print(\"Age of universe in years based on plank time is: \", age_of_universe_years_exp4)"
      ],
      "execution_count": null,
      "outputs": [
        {
          "output_type": "stream",
          "text": [
            "Age of universe in years based on plank time is:  5.881718131005398424857633076E+35\n"
          ],
          "name": "stdout"
        }
      ]
    },
    {
      "cell_type": "code",
      "metadata": {
        "id": "6ALtfpMbhyr-"
      },
      "source": [
        ""
      ],
      "execution_count": null,
      "outputs": []
    },
    {
      "cell_type": "markdown",
      "metadata": {
        "id": "oeGwW9iyiVdx"
      },
      "source": [
        "This looks little off\n",
        "\n",
        "**Experiment 5**\n",
        "\n",
        "From the above mention we found that the planktime**PlankTime =1\n",
        "\n",
        "From the above observation we can deduct the following."
      ]
    },
    {
      "cell_type": "code",
      "metadata": {
        "id": "uOFkWqQ5CPSZ"
      },
      "source": [
        "plank_time = np.sqrt((constants.hbar*constants.gravitational_constant)/constants.speed_of_light**5) # eqn1"
      ],
      "execution_count": null,
      "outputs": []
    },
    {
      "cell_type": "code",
      "metadata": {
        "id": "9HNkhaa8CzIy",
        "outputId": "a1728c4d-2a47-4339-9e68-4d83c74fb07e",
        "colab": {
          "base_uri": "https://localhost:8080/",
          "height": 34
        }
      },
      "source": [
        "Decimal(plank_time)**Decimal(plank_time) #eqn 2"
      ],
      "execution_count": null,
      "outputs": [
        {
          "output_type": "execute_result",
          "data": {
            "text/plain": [
              "Decimal('1.000000000000000000000000000')"
            ]
          },
          "metadata": {
            "tags": []
          },
          "execution_count": 28
        }
      ]
    },
    {
      "cell_type": "code",
      "metadata": {
        "id": "ZqeW28FYCfwg"
      },
      "source": [
        "plank_length = np.sqrt((constants.hbar*constants.gravitational_constant)/constants.speed_of_light**3) #eqn 3"
      ],
      "execution_count": null,
      "outputs": []
    },
    {
      "cell_type": "code",
      "metadata": {
        "id": "o8a3_hijCqWg",
        "outputId": "668f0dc1-4286-4b98-9d74-c215cf4831a9",
        "colab": {
          "base_uri": "https://localhost:8080/",
          "height": 34
        }
      },
      "source": [
        "Decimal(plank_length)**Decimal(plank_length)"
      ],
      "execution_count": null,
      "outputs": [
        {
          "output_type": "execute_result",
          "data": {
            "text/plain": [
              "Decimal('1.000000000000000000000000000')"
            ]
          },
          "metadata": {
            "tags": []
          },
          "execution_count": 30
        }
      ]
    },
    {
      "cell_type": "code",
      "metadata": {
        "id": "ey2XNqRqEIRI"
      },
      "source": [
        ""
      ],
      "execution_count": null,
      "outputs": []
    },
    {
      "cell_type": "markdown",
      "metadata": {
        "id": "ltiP2J3ZJITL"
      },
      "source": [
        "**Experiment 6**\n",
        "\n",
        "Significance of plank time and speed of light."
      ]
    },
    {
      "cell_type": "code",
      "metadata": {
        "id": "KQJ0XtxGJPvj"
      },
      "source": [
        "k_constant_plank_time = Decimal(1)/(Decimal(plank_time)* Decimal(constants.speed_of_light))\n",
        "#for a time of 1 sec\n",
        "k_constant_one_sec = Decimal(1)/(Decimal(constants.speed_of_light))\n",
        "\n",
        "plank_by_c = Decimal(plank_time)/Decimal(constants.speed_of_light)\n",
        "plank_l_by_t = Decimal(plank_length)/Decimal(plank_time)"
      ],
      "execution_count": null,
      "outputs": []
    },
    {
      "cell_type": "code",
      "metadata": {
        "id": "ib89rlZcJeVX",
        "outputId": "35aaad32-d7b3-462a-e76f-6651482f2a02",
        "colab": {
          "base_uri": "https://localhost:8080/",
          "height": 85
        }
      },
      "source": [
        "print(\"the k value for planktime is\", k_constant_plank_time)\n",
        "print(\"the k value for one sec is\", k_constant_one_sec)\n",
        "print(\"The plank divided by c gives\", plank_by_c)\n",
        "print(\"planl length by plank time\", plank_l_by_t)"
      ],
      "execution_count": null,
      "outputs": [
        {
          "output_type": "stream",
          "text": [
            "the k value for planktime is 6.187142405676738029424019625E+34\n",
            "the k value for one sec is 3.335640951981520495755767145E-9\n",
            "The plank divided by c gives 1.798326243521978311963281280E-52\n",
            "planl length by plank time 299792457.9999999656717990729\n"
          ],
          "name": "stdout"
        }
      ]
    },
    {
      "cell_type": "code",
      "metadata": {
        "id": "mY_FYeM4JlAv"
      },
      "source": [
        ""
      ],
      "execution_count": null,
      "outputs": []
    },
    {
      "cell_type": "markdown",
      "metadata": {
        "id": "592P9J_kdNpc"
      },
      "source": [
        "**Experiment 7**\n",
        "\n",
        "Using the formula of the expanding universe as the values"
      ]
    },
    {
      "cell_type": "code",
      "metadata": {
        "id": "Xd7KwSrxdYq2"
      },
      "source": [
        "k_value = np.square(Decimal(70))/ Decimal(3.086*10**22)"
      ],
      "execution_count": null,
      "outputs": []
    },
    {
      "cell_type": "code",
      "metadata": {
        "id": "juqnxBcedoKO",
        "outputId": "55dd06eb-23a7-4251-8bbe-d881f6d9d63f",
        "colab": {
          "base_uri": "https://localhost:8080/",
          "height": 34
        }
      },
      "source": [
        "print(\"the value of k is \", k_value)"
      ],
      "execution_count": null,
      "outputs": [
        {
          "output_type": "stream",
          "text": [
            "the value of k is  1.587815942968243842995368459E-19\n"
          ],
          "name": "stdout"
        }
      ]
    },
    {
      "cell_type": "code",
      "metadata": {
        "id": "_6QM-J5bd4AS"
      },
      "source": [
        "del_t = np.square(Decimal(70))/ (Decimal(k_value)* Decimal(constants.speed_of_light))"
      ],
      "execution_count": null,
      "outputs": []
    },
    {
      "cell_type": "code",
      "metadata": {
        "id": "EdqlQG7Dh-Ew",
        "outputId": "959de525-ccfb-4ed0-c3d4-33a89773e014",
        "colab": {
          "base_uri": "https://localhost:8080/",
          "height": 34
        }
      },
      "source": [
        "print(\"The value of del_t\", del_t)"
      ],
      "execution_count": null,
      "outputs": [
        {
          "output_type": "stream",
          "text": [
            "The value of del_t 102937879778149.7120060038335\n"
          ],
          "name": "stdout"
        }
      ]
    },
    {
      "cell_type": "code",
      "metadata": {
        "id": "jbKwOpboiCna"
      },
      "source": [
        "c = Decimal(plank_length)/Decimal(plank_time)"
      ],
      "execution_count": null,
      "outputs": []
    },
    {
      "cell_type": "code",
      "metadata": {
        "id": "Ticr2-DKUZMZ",
        "outputId": "1eb5df4e-6a4e-4097-9301-1b2c945e928b",
        "colab": {
          "base_uri": "https://localhost:8080/",
          "height": 34
        }
      },
      "source": [
        "print (\"ratio of length to time is\", c)"
      ],
      "execution_count": null,
      "outputs": [
        {
          "output_type": "stream",
          "text": [
            "ratio of length to time is 299792457.9999999656717990729\n"
          ],
          "name": "stdout"
        }
      ]
    },
    {
      "cell_type": "code",
      "metadata": {
        "id": "GiHo5ZMQUeLw"
      },
      "source": [
        ""
      ],
      "execution_count": null,
      "outputs": []
    },
    {
      "cell_type": "markdown",
      "metadata": {
        "id": "43U0BRX0UwJk"
      },
      "source": [
        "Space and time are dancing in such a way that the ratio of space and time are always constant. "
      ]
    },
    {
      "cell_type": "code",
      "metadata": {
        "id": "Aqq5H-q9YOdr"
      },
      "source": [
        "age_of_universe = Decimal(8.8*18**26)/(Decimal(constants.speed_of_light)*Decimal(1000000000))"
      ],
      "execution_count": null,
      "outputs": []
    },
    {
      "cell_type": "code",
      "metadata": {
        "id": "5vPvMbmKYuoJ",
        "outputId": "38e7b743-d93b-4c1e-e0e1-9518532a391a",
        "colab": {
          "base_uri": "https://localhost:8080/",
          "height": 34
        }
      },
      "source": [
        "print(\"age of universe\", age_of_universe)"
      ],
      "execution_count": null,
      "outputs": [
        {
          "output_type": "stream",
          "text": [
            "age of universe 12727617113748031.14727738010\n"
          ],
          "name": "stdout"
        }
      ]
    },
    {
      "cell_type": "code",
      "metadata": {
        "id": "m941B5L5jMbz"
      },
      "source": [
        "speed_of_time = Decimal(1)/Decimal(constants.speed_of_light)"
      ],
      "execution_count": null,
      "outputs": []
    },
    {
      "cell_type": "code",
      "metadata": {
        "id": "UxYWyGQmYygx",
        "outputId": "069d0520-c05f-41bd-b10a-ae64b460eaf1",
        "colab": {
          "base_uri": "https://localhost:8080/",
          "height": 34
        }
      },
      "source": [
        "print(\"rate of change of time WRT distance\", speed_of_time )"
      ],
      "execution_count": null,
      "outputs": [
        {
          "output_type": "stream",
          "text": [
            "rate of change of time WRT distance 3.335640951981520495755767145E-9\n"
          ],
          "name": "stdout"
        }
      ]
    },
    {
      "cell_type": "code",
      "metadata": {
        "id": "OFCdcHxKjDoC"
      },
      "source": [
        "how_far_away = 290000000\n",
        "time_far_away = (Decimal(how_far_away)+ Decimal(1))*Decimal(speed_of_time)"
      ],
      "execution_count": null,
      "outputs": []
    },
    {
      "cell_type": "code",
      "metadata": {
        "id": "c2I3Jwn-j99l"
      },
      "source": [
        "#print(\"speed of time in 200,000,000 m away\", time_dilation)"
      ],
      "execution_count": null,
      "outputs": []
    },
    {
      "cell_type": "code",
      "metadata": {
        "id": "SfLjyHKkkN2_"
      },
      "source": [
        "time_diff = Decimal(1)- Decimal(time_far_away)"
      ],
      "execution_count": null,
      "outputs": []
    },
    {
      "cell_type": "code",
      "metadata": {
        "id": "qjGnW9FIeY5o",
        "outputId": "526b044c-22a2-4354-9f0c-6a7a042a6b3f",
        "colab": {
          "base_uri": "https://localhost:8080/",
          "height": 34
        }
      },
      "source": [
        "print(\"time difference is\", time_diff)"
      ],
      "execution_count": null,
      "outputs": [
        {
          "output_type": "stream",
          "text": [
            "time difference is 0.0326641205897181042493070322\n"
          ],
          "name": "stdout"
        }
      ]
    },
    {
      "cell_type": "code",
      "metadata": {
        "id": "QM2KXe2Oekq3"
      },
      "source": [
        ""
      ],
      "execution_count": null,
      "outputs": []
    },
    {
      "cell_type": "code",
      "metadata": {
        "id": "Tdq7x6-Tt3y4"
      },
      "source": [
        ""
      ],
      "execution_count": null,
      "outputs": []
    },
    {
      "cell_type": "markdown",
      "metadata": {
        "id": "z0w4ISWYt7E7"
      },
      "source": [
        "**Version 2 Experiments**\n",
        "\n",
        "Premise: Rate of change of time WRT distance. \n",
        "When the two \n"
      ]
    },
    {
      "cell_type": "code",
      "metadata": {
        "id": "OKNCVgJZuL7J"
      },
      "source": [
        "# one pixel is counted as Pt*Pd\n",
        "# Question 1: In 4 seconds you passed 1trttt. How many plank Pixels you covered\n",
        "# The unit of space_time_pixel is s*m\n",
        "\n",
        "space_time_pixel = Decimal(1/Decimal(constants.speed_of_light))*Decimal(1)"
      ],
      "execution_count": null,
      "outputs": []
    },
    {
      "cell_type": "code",
      "metadata": {
        "id": "4n6lTQ_Zu5D5",
        "outputId": "ddf06129-728d-497d-af47-f535af41a07c",
        "colab": {
          "base_uri": "https://localhost:8080/",
          "height": 34
        }
      },
      "source": [
        "print(\"the plank_ pixel is\", space_time_pixel, \"m*s\")"
      ],
      "execution_count": null,
      "outputs": [
        {
          "output_type": "stream",
          "text": [
            "the plank_ pixel is 3.335640951981520495755767145E-9 m*s\n"
          ],
          "name": "stdout"
        }
      ]
    },
    {
      "cell_type": "code",
      "metadata": {
        "id": "Z3jYwvV3u-dh",
        "outputId": "c76106a0-9fb1-4769-98a3-f0482258d824",
        "colab": {
          "base_uri": "https://localhost:8080/",
          "height": 34
        }
      },
      "source": [
        "# NUmber of space_time pixel for 4sec/meter is given by:\n",
        "\n",
        "number_of_s_t_pixel = Decimal(4)/Decimal(space_time_pixel)\n",
        "print(\"the number of space_time pixel for 4 second per meter is given by\", number_of_s_t_pixel)"
      ],
      "execution_count": null,
      "outputs": [
        {
          "output_type": "stream",
          "text": [
            "the number of space_time pixel for 4 second per meter is given by 1199169832.000000000000000000\n"
          ],
          "name": "stdout"
        }
      ]
    },
    {
      "cell_type": "code",
      "metadata": {
        "id": "2qvpIfQSvmRJ",
        "outputId": "cd793faa-e258-4fd0-8596-2730c6230aca",
        "colab": {
          "base_uri": "https://localhost:8080/",
          "height": 34
        }
      },
      "source": [
        "#Question 2: In one meter you spent 1/c seconds. How many space_time distance pixels you covered.\n",
        "number_of_s_t_pixel = Decimal(1/Decimal(constants.speed_of_light))/Decimal(space_time_pixel)\n",
        "print(\"the number of space_time pixel for 1/c second per meter is given by\", number_of_s_t_pixel, \"pixels\")\n"
      ],
      "execution_count": null,
      "outputs": [
        {
          "output_type": "stream",
          "text": [
            "the number of space_time pixel for 1/c second per meter is given by 1 pixels\n"
          ],
          "name": "stdout"
        }
      ]
    },
    {
      "cell_type": "code",
      "metadata": {
        "id": "t-emB_LHw2NZ"
      },
      "source": [
        ""
      ],
      "execution_count": null,
      "outputs": []
    },
    {
      "cell_type": "markdown",
      "metadata": {
        "id": "wwsDJkxoSobE"
      },
      "source": [
        "Plank Space-time"
      ]
    },
    {
      "cell_type": "code",
      "metadata": {
        "id": "jx0-jCXpSsFk"
      },
      "source": [
        "plank_s_t = Decimal(plank_time)*Decimal(plank_length)"
      ],
      "execution_count": null,
      "outputs": []
    },
    {
      "cell_type": "code",
      "metadata": {
        "id": "AyUlGnpES9x1",
        "outputId": "1165a742-f785-4363-a20f-b2bfc23fa1b1",
        "colab": {
          "base_uri": "https://localhost:8080/",
          "height": 34
        }
      },
      "source": [
        "print(\"plank_s_t is given by\", plank_s_t)"
      ],
      "execution_count": null,
      "outputs": [
        {
          "output_type": "stream",
          "text": [
            "plank_s_t is given by 8.713629159993319260997399616E-79\n"
          ],
          "name": "stdout"
        }
      ]
    },
    {
      "cell_type": "code",
      "metadata": {
        "id": "vLDsR_quTFTW"
      },
      "source": [
        ""
      ],
      "execution_count": null,
      "outputs": []
    },
    {
      "cell_type": "markdown",
      "metadata": {
        "id": "U6IOJQmBgj0U"
      },
      "source": [
        "$y = 2x^2$ \n",
        "\n",
        "$\\frac{2x^2}{3y}=c$"
      ]
    },
    {
      "cell_type": "code",
      "metadata": {
        "id": "Bkgvt721gm1X"
      },
      "source": [
        ""
      ],
      "execution_count": null,
      "outputs": []
    },
    {
      "cell_type": "code",
      "metadata": {
        "id": "DBDGgP0OhGYY"
      },
      "source": [
        "energy = Decimal(constants.h)/Decimal(plank_time)"
      ],
      "execution_count": null,
      "outputs": []
    },
    {
      "cell_type": "code",
      "metadata": {
        "id": "CYyEtrjeFyjy",
        "outputId": "04a48dad-eaa0-4a32-cf1e-a2bf51e554bb",
        "colab": {
          "base_uri": "https://localhost:8080/",
          "height": 34
        }
      },
      "source": [
        "print(\"pixel energy is\", energy)"
      ],
      "execution_count": null,
      "outputs": [
        {
          "output_type": "stream",
          "text": [
            "pixel energy is 12290423399.34701229917977080\n"
          ],
          "name": "stdout"
        }
      ]
    },
    {
      "cell_type": "code",
      "metadata": {
        "id": "fj7jWgUZF3wY"
      },
      "source": [
        ""
      ],
      "execution_count": null,
      "outputs": []
    },
    {
      "cell_type": "markdown",
      "metadata": {
        "id": "HyqFN3ostd5j"
      },
      "source": [
        "# Energy Density\n"
      ]
    },
    {
      "cell_type": "code",
      "metadata": {
        "id": "_8gBhvAvtiUG"
      },
      "source": [
        "s_t_energy = Decimal(constants.h)/Decimal(plank_time)"
      ],
      "execution_count": null,
      "outputs": []
    },
    {
      "cell_type": "code",
      "metadata": {
        "id": "9D9vzrxZtrx0",
        "outputId": "e4417e4d-bb7c-429a-b3fd-872c91018b45",
        "colab": {
          "base_uri": "https://localhost:8080/",
          "height": 34
        }
      },
      "source": [
        "print(\"s_t_energy is\", s_t_energy)"
      ],
      "execution_count": null,
      "outputs": [
        {
          "output_type": "stream",
          "text": [
            "s_t_energy is 12290423399.34701229917977080\n"
          ],
          "name": "stdout"
        }
      ]
    },
    {
      "cell_type": "code",
      "metadata": {
        "id": "y07DduJ6u-Co"
      },
      "source": [
        "mass = s_t_energy/Decimal(constants.speed_of_light**2)"
      ],
      "execution_count": null,
      "outputs": []
    },
    {
      "cell_type": "code",
      "metadata": {
        "id": "8Ro2ZV1jvXT8",
        "outputId": "c5913631-e857-4d2b-dcec-9891d674fd2d",
        "colab": {
          "base_uri": "https://localhost:8080/",
          "height": 34
        }
      },
      "source": [
        "print(\"equivalent mass is\", mass)"
      ],
      "execution_count": null,
      "outputs": [
        {
          "output_type": "stream",
          "text": [
            "equivalent mass is 1.367494028420615744016071969E-7\n"
          ],
          "name": "stdout"
        }
      ]
    },
    {
      "cell_type": "code",
      "metadata": {
        "id": "RqQiUkD6tzas"
      },
      "source": [
        "s_t_energy_density = Decimal(s_t_energy)/Decimal(mass)"
      ],
      "execution_count": null,
      "outputs": []
    },
    {
      "cell_type": "code",
      "metadata": {
        "id": "eEZuvcwkuKWE",
        "outputId": "e5792c7c-0ad2-4e68-dd7d-7c2c0d610321",
        "colab": {
          "base_uri": "https://localhost:8080/",
          "height": 34
        }
      },
      "source": [
        "print(\"s_t_energy_density is\", s_t_energy_density)"
      ],
      "execution_count": null,
      "outputs": [
        {
          "output_type": "stream",
          "text": [
            "s_t_energy_density is 89875517873681759.99999999997\n"
          ],
          "name": "stdout"
        }
      ]
    },
    {
      "cell_type": "code",
      "metadata": {
        "id": "kS5ooq6RuQE8"
      },
      "source": [
        ""
      ],
      "execution_count": null,
      "outputs": []
    },
    {
      "cell_type": "markdown",
      "metadata": {
        "id": "m58LvjsVAfkw"
      },
      "source": [
        "# Space Time Area and Energy"
      ]
    },
    {
      "cell_type": "code",
      "metadata": {
        "id": "OyCEBE8OAjwL"
      },
      "source": [
        "#time dilation formula\n",
        "\n",
        "def time_dilation(initial_time, velocity):\n",
        "  t_i = initial_time\n",
        "  v = velocity\n",
        "  v_sq_by_c_sq = (Decimal(velocity**2)/Decimal(constants.speed_of_light**2))\n",
        "\n",
        "  t_f = Decimal(t_i)/(Decimal(np.sqrt(Decimal(1)-v_sq_by_c_sq)))\n",
        "  time_dilation = t_f - t_i\n",
        "  return ({\"FinalTime\": t_f,\"Dilated_time\":time_dilation})"
      ],
      "execution_count": null,
      "outputs": []
    },
    {
      "cell_type": "code",
      "metadata": {
        "id": "gU6c0llqENmb",
        "outputId": "2dcc98d0-6cd5-4b1c-98d8-e337809f003c",
        "colab": {
          "base_uri": "https://localhost:8080/",
          "height": 51
        }
      },
      "source": [
        "print(time_dilation(30, 297633000))\n",
        "time_dilation(30, 297633000)[\"FinalTime\"]"
      ],
      "execution_count": null,
      "outputs": [
        {
          "output_type": "stream",
          "text": [
            "{'FinalTime': Decimal('250.3961887173538167370981987'), 'Dilated_time': Decimal('220.3961887173538167370981987')}\n"
          ],
          "name": "stdout"
        },
        {
          "output_type": "execute_result",
          "data": {
            "text/plain": [
              "Decimal('250.3961887173538167370981987')"
            ]
          },
          "metadata": {
            "tags": []
          },
          "execution_count": 159
        }
      ]
    },
    {
      "cell_type": "code",
      "metadata": {
        "id": "efTN6B2UFJPk"
      },
      "source": [
        "#length contraction formula\n",
        "\n",
        "def length_contaction(initial_length, velocity):\n",
        "  l_i = initial_length\n",
        "  v = velocity\n",
        "  v_sq_by_c_sq = (Decimal(velocity**2)/Decimal(constants.speed_of_light**2))\n",
        "  \n",
        "  l_f = Decimal(l_i)*Decimal(np.sqrt(Decimal(1)-v_sq_by_c_sq))\n",
        "  length_contracted = l_f-l_i\n",
        "  return ({\"Final_length\": l_f, \"length_contracted\":length_contracted })\n",
        "\n"
      ],
      "execution_count": null,
      "outputs": []
    },
    {
      "cell_type": "code",
      "metadata": {
        "id": "-eYsaAFSG7UH",
        "outputId": "b2c41fe2-0dc6-43c3-f8f8-dcf97db0ea94",
        "colab": {
          "base_uri": "https://localhost:8080/",
          "height": 51
        }
      },
      "source": [
        "length_contaction(1, 297633000)"
      ],
      "execution_count": null,
      "outputs": [
        {
          "output_type": "execute_result",
          "data": {
            "text/plain": [
              "{'Final_length': Decimal('0.1198101303125818582210217192'),\n",
              " 'length_contracted': Decimal('-0.8801898696874181417789782808')}"
            ]
          },
          "metadata": {
            "tags": []
          },
          "execution_count": 161
        }
      ]
    },
    {
      "cell_type": "code",
      "metadata": {
        "id": "kbbADx1MYyMq"
      },
      "source": [
        "#change of mass:\n",
        "def change_of_mass(initial_mass, velocity):\n",
        "  m_i = initial_mass\n",
        "  v = velocity\n",
        "  v_sq_by_c_sq = (Decimal(velocity**2)/Decimal(constants.speed_of_light**2))\n",
        "  \n",
        "  m_f = Decimal(m_i)*Decimal(np.sqrt(Decimal(1)-v_sq_by_c_sq))\n",
        "  mass_changed = m_f-m_i\n",
        "  return ({\"Final_mass\":m_f, \"mass_changed\":mass_changed })\n"
      ],
      "execution_count": null,
      "outputs": []
    },
    {
      "cell_type": "code",
      "metadata": {
        "id": "ME9wnzgsh0-r",
        "outputId": "fb862b2e-386b-426b-cb57-e995d9231b36",
        "colab": {
          "base_uri": "https://localhost:8080/",
          "height": 51
        }
      },
      "source": [
        "change_of_mass(1,297633000)"
      ],
      "execution_count": null,
      "outputs": [
        {
          "output_type": "execute_result",
          "data": {
            "text/plain": [
              "{'Final_mass': Decimal('0.1198101303125818582210217192'),\n",
              " 'mass_changed': Decimal('-0.8801898696874181417789782808')}"
            ]
          },
          "metadata": {
            "tags": []
          },
          "execution_count": 163
        }
      ]
    },
    {
      "cell_type": "code",
      "metadata": {
        "id": "Z2YgaO7OHAOa"
      },
      "source": [
        "#change in space time pixel\n",
        "\n",
        "def s_t_area(initial_length, initial_time, velocity):\n",
        "  time_dilated = time_dilation(initial_time=initial_time, velocity=velocity)[\"Dilated_time\"]\n",
        "  length_contracted = length_contaction(initial_length=initial_length, velocity=velocity)[\"length_contracted\"]\n",
        "  #length is scalar so ignore -vs sign\n",
        "  s_t_area = Decimal(time_dilated*length_contracted)*(-1)\n",
        "  return ({\"s_t_area\": s_t_area})"
      ],
      "execution_count": null,
      "outputs": []
    },
    {
      "cell_type": "code",
      "metadata": {
        "id": "YbweAZO0HOUK",
        "outputId": "db39c2bb-3e22-4dc9-cbd4-18805350ac75",
        "colab": {
          "base_uri": "https://localhost:8080/",
          "height": 34
        }
      },
      "source": [
        "\n",
        "s_t_area(1,1,21762)[\"s_t_area\"]"
      ],
      "execution_count": null,
      "outputs": [
        {
          "output_type": "execute_result",
          "data": {
            "text/plain": [
              "Decimal('6.941485536794282673544475198E-18')"
            ]
          },
          "metadata": {
            "tags": []
          },
          "execution_count": 149
        }
      ]
    },
    {
      "cell_type": "code",
      "metadata": {
        "id": "H5YXKu39Nma4"
      },
      "source": [
        "#plank pixel area\n",
        "\n",
        "def plank_pixel_area():\n",
        "  return ({\"plank_pixel_area\":Decimal(plank_length)*Decimal(plank_time)})"
      ],
      "execution_count": null,
      "outputs": []
    },
    {
      "cell_type": "code",
      "metadata": {
        "id": "qMuE4F1wOtyN",
        "outputId": "f72d4828-8a96-4ac2-8b86-485b9b698c11",
        "colab": {
          "base_uri": "https://localhost:8080/",
          "height": 34
        }
      },
      "source": [
        "plank_pixel_area()"
      ],
      "execution_count": null,
      "outputs": [
        {
          "output_type": "execute_result",
          "data": {
            "text/plain": [
              "{'plank_pixel_area': Decimal('8.713629159993319260997399616E-79')}"
            ]
          },
          "metadata": {
            "tags": []
          },
          "execution_count": 146
        }
      ]
    },
    {
      "cell_type": "code",
      "metadata": {
        "id": "7bRPAp0bSm3L"
      },
      "source": [
        "#Number of Pixels\n",
        "\n",
        "def num_of_st_pixels(initial_length, initial_time, velocity):\n",
        "  return ({ \"num_of_st_pixels\":(s_t_area(initial_length, initial_time, velocity)[\"s_t_area\"]/plank_pixel_area()[\"plank_pixel_area\"])})"
      ],
      "execution_count": null,
      "outputs": []
    },
    {
      "cell_type": "code",
      "metadata": {
        "id": "hYBqxfCaTBor",
        "outputId": "aac4a923-0b29-4687-fdcd-5d6005a9de0e",
        "colab": {
          "base_uri": "https://localhost:8080/",
          "height": 34
        }
      },
      "source": [
        "num_of_st_pixels(1,1,21762)"
      ],
      "execution_count": null,
      "outputs": [
        {
          "output_type": "execute_result",
          "data": {
            "text/plain": [
              "{'num_of_st_pixels': Decimal('7.966239335344407415804741078E+60')}"
            ]
          },
          "metadata": {
            "tags": []
          },
          "execution_count": 148
        }
      ]
    },
    {
      "cell_type": "code",
      "metadata": {
        "id": "NjwgZjLZTD07"
      },
      "source": [
        "#Energy of the s_t_area \n",
        "\n",
        "\n",
        "  "
      ],
      "execution_count": null,
      "outputs": []
    },
    {
      "cell_type": "code",
      "metadata": {
        "id": "moFtdS8EWscK",
        "outputId": "bee85f55-bae3-44dc-ea70-80b559faa895",
        "colab": {
          "base_uri": "https://localhost:8080/",
          "height": 34
        }
      },
      "source": [
        "s_t_energy(1,1,21762)"
      ],
      "execution_count": null,
      "outputs": [
        {
          "output_type": "execute_result",
          "data": {
            "text/plain": [
              "{'s_t_energy': Decimal('3.265874498147498656077915799E+62')}"
            ]
          },
          "metadata": {
            "tags": []
          },
          "execution_count": 167
        }
      ]
    },
    {
      "cell_type": "code",
      "metadata": {
        "id": "bAAObmNuW-SL"
      },
      "source": [
        "# check if I can come up with the above velocity \n",
        "\n",
        "def resulting_velocity(initial_mass, initial_length, initial_time, velocity):\n",
        "  return(np.sqrt(Decimal((2*s_t_energy(initial_length, initial_time, velocity)[\"s_t_energy\"])/Decimal(initial_mass))))\n",
        "\n"
      ],
      "execution_count": null,
      "outputs": []
    },
    {
      "cell_type": "code",
      "metadata": {
        "id": "_T_fkouHo_zi",
        "outputId": "18ebc803-c9ec-4302-d988-43de847bec0f",
        "colab": {
          "base_uri": "https://localhost:8080/",
          "height": 34
        }
      },
      "source": [
        "resulting_velocity(1,1,1,21762)"
      ],
      "execution_count": null,
      "outputs": [
        {
          "output_type": "execute_result",
          "data": {
            "text/plain": [
              "Decimal('2.555728662494318333843430712E+31')"
            ]
          },
          "metadata": {
            "tags": []
          },
          "execution_count": 176
        }
      ]
    },
    {
      "cell_type": "code",
      "metadata": {
        "id": "cXUegUaDpFrl"
      },
      "source": [
        ""
      ],
      "execution_count": null,
      "outputs": []
    }
  ]
}